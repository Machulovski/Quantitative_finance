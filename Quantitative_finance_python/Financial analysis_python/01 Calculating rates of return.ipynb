{
 "cells": [
  {
   "cell_type": "code",
   "execution_count": 1,
   "metadata": {},
   "outputs": [
    {
     "name": "stderr",
     "output_type": "stream",
     "text": [
      "C:\\Users\\mikex\\anaconda3\\lib\\site-packages\\pandas_datareader\\compat\\__init__.py:7: FutureWarning: pandas.util.testing is deprecated. Use the functions in the public API at pandas.testing instead.\n",
      "  from pandas.util.testing import assert_frame_equal\n"
     ]
    }
   ],
   "source": [
    "import numpy as np\n",
    "from pandas_datareader import data as wb\n",
    "import matplotlib.pyplot as plt"
   ]
  },
  {
   "cell_type": "code",
   "execution_count": 5,
   "metadata": {},
   "outputs": [],
   "source": [
    "stock_lists = ['TSLA']\n",
    "start_date = '2016-1-1'\n",
    "for stock in stock_lists:\n",
    "    stock = wb.DataReader(stock,data_source='yahoo', start = start_date)  "
   ]
  },
  {
   "cell_type": "code",
   "execution_count": 6,
   "metadata": {},
   "outputs": [
    {
     "data": {
      "text/html": [
       "<div>\n",
       "<style scoped>\n",
       "    .dataframe tbody tr th:only-of-type {\n",
       "        vertical-align: middle;\n",
       "    }\n",
       "\n",
       "    .dataframe tbody tr th {\n",
       "        vertical-align: top;\n",
       "    }\n",
       "\n",
       "    .dataframe thead th {\n",
       "        text-align: right;\n",
       "    }\n",
       "</style>\n",
       "<table border=\"1\" class=\"dataframe\">\n",
       "  <thead>\n",
       "    <tr style=\"text-align: right;\">\n",
       "      <th></th>\n",
       "      <th>High</th>\n",
       "      <th>Low</th>\n",
       "      <th>Open</th>\n",
       "      <th>Close</th>\n",
       "      <th>Volume</th>\n",
       "      <th>Adj Close</th>\n",
       "    </tr>\n",
       "    <tr>\n",
       "      <th>Date</th>\n",
       "      <th></th>\n",
       "      <th></th>\n",
       "      <th></th>\n",
       "      <th></th>\n",
       "      <th></th>\n",
       "      <th></th>\n",
       "    </tr>\n",
       "  </thead>\n",
       "  <tbody>\n",
       "    <tr>\n",
       "      <th>2015-12-31</th>\n",
       "      <td>48.689999</td>\n",
       "      <td>47.674000</td>\n",
       "      <td>47.702000</td>\n",
       "      <td>48.001999</td>\n",
       "      <td>13575000.0</td>\n",
       "      <td>48.001999</td>\n",
       "    </tr>\n",
       "    <tr>\n",
       "      <th>2016-01-04</th>\n",
       "      <td>46.276001</td>\n",
       "      <td>43.799999</td>\n",
       "      <td>46.144001</td>\n",
       "      <td>44.681999</td>\n",
       "      <td>34135500.0</td>\n",
       "      <td>44.681999</td>\n",
       "    </tr>\n",
       "    <tr>\n",
       "      <th>2016-01-05</th>\n",
       "      <td>45.377998</td>\n",
       "      <td>44.000000</td>\n",
       "      <td>45.271999</td>\n",
       "      <td>44.686001</td>\n",
       "      <td>15934000.0</td>\n",
       "      <td>44.686001</td>\n",
       "    </tr>\n",
       "    <tr>\n",
       "      <th>2016-01-06</th>\n",
       "      <td>44.009998</td>\n",
       "      <td>43.195999</td>\n",
       "      <td>44.000000</td>\n",
       "      <td>43.807999</td>\n",
       "      <td>18895500.0</td>\n",
       "      <td>43.807999</td>\n",
       "    </tr>\n",
       "    <tr>\n",
       "      <th>2016-01-07</th>\n",
       "      <td>43.688000</td>\n",
       "      <td>42.734001</td>\n",
       "      <td>42.838001</td>\n",
       "      <td>43.130001</td>\n",
       "      <td>17771500.0</td>\n",
       "      <td>43.130001</td>\n",
       "    </tr>\n",
       "  </tbody>\n",
       "</table>\n",
       "</div>"
      ],
      "text/plain": [
       "                 High        Low       Open      Close      Volume  Adj Close\n",
       "Date                                                                         \n",
       "2015-12-31  48.689999  47.674000  47.702000  48.001999  13575000.0  48.001999\n",
       "2016-01-04  46.276001  43.799999  46.144001  44.681999  34135500.0  44.681999\n",
       "2016-01-05  45.377998  44.000000  45.271999  44.686001  15934000.0  44.686001\n",
       "2016-01-06  44.009998  43.195999  44.000000  43.807999  18895500.0  43.807999\n",
       "2016-01-07  43.688000  42.734001  42.838001  43.130001  17771500.0  43.130001"
      ]
     },
     "execution_count": 6,
     "metadata": {},
     "output_type": "execute_result"
    }
   ],
   "source": [
    "stock.head()"
   ]
  },
  {
   "cell_type": "code",
   "execution_count": 7,
   "metadata": {},
   "outputs": [
    {
     "data": {
      "text/html": [
       "<div>\n",
       "<style scoped>\n",
       "    .dataframe tbody tr th:only-of-type {\n",
       "        vertical-align: middle;\n",
       "    }\n",
       "\n",
       "    .dataframe tbody tr th {\n",
       "        vertical-align: top;\n",
       "    }\n",
       "\n",
       "    .dataframe thead th {\n",
       "        text-align: right;\n",
       "    }\n",
       "</style>\n",
       "<table border=\"1\" class=\"dataframe\">\n",
       "  <thead>\n",
       "    <tr style=\"text-align: right;\">\n",
       "      <th></th>\n",
       "      <th>High</th>\n",
       "      <th>Low</th>\n",
       "      <th>Open</th>\n",
       "      <th>Close</th>\n",
       "      <th>Volume</th>\n",
       "      <th>Adj Close</th>\n",
       "    </tr>\n",
       "    <tr>\n",
       "      <th>Date</th>\n",
       "      <th></th>\n",
       "      <th></th>\n",
       "      <th></th>\n",
       "      <th></th>\n",
       "      <th></th>\n",
       "      <th></th>\n",
       "    </tr>\n",
       "  </thead>\n",
       "  <tbody>\n",
       "    <tr>\n",
       "      <th>2020-09-08</th>\n",
       "      <td>368.73999</td>\n",
       "      <td>329.880005</td>\n",
       "      <td>356.000000</td>\n",
       "      <td>330.209991</td>\n",
       "      <td>115465700.0</td>\n",
       "      <td>330.209991</td>\n",
       "    </tr>\n",
       "    <tr>\n",
       "      <th>2020-09-09</th>\n",
       "      <td>369.00000</td>\n",
       "      <td>341.510010</td>\n",
       "      <td>356.600006</td>\n",
       "      <td>366.279999</td>\n",
       "      <td>79465800.0</td>\n",
       "      <td>366.279999</td>\n",
       "    </tr>\n",
       "    <tr>\n",
       "      <th>2020-09-10</th>\n",
       "      <td>398.98999</td>\n",
       "      <td>360.559998</td>\n",
       "      <td>386.209991</td>\n",
       "      <td>371.339996</td>\n",
       "      <td>84930600.0</td>\n",
       "      <td>371.339996</td>\n",
       "    </tr>\n",
       "    <tr>\n",
       "      <th>2020-09-11</th>\n",
       "      <td>382.50000</td>\n",
       "      <td>360.500000</td>\n",
       "      <td>381.940002</td>\n",
       "      <td>372.720001</td>\n",
       "      <td>60717500.0</td>\n",
       "      <td>372.720001</td>\n",
       "    </tr>\n",
       "    <tr>\n",
       "      <th>2020-09-14</th>\n",
       "      <td>420.00000</td>\n",
       "      <td>373.299988</td>\n",
       "      <td>380.950012</td>\n",
       "      <td>419.619995</td>\n",
       "      <td>82377400.0</td>\n",
       "      <td>419.619995</td>\n",
       "    </tr>\n",
       "  </tbody>\n",
       "</table>\n",
       "</div>"
      ],
      "text/plain": [
       "                 High         Low        Open       Close       Volume  \\\n",
       "Date                                                                     \n",
       "2020-09-08  368.73999  329.880005  356.000000  330.209991  115465700.0   \n",
       "2020-09-09  369.00000  341.510010  356.600006  366.279999   79465800.0   \n",
       "2020-09-10  398.98999  360.559998  386.209991  371.339996   84930600.0   \n",
       "2020-09-11  382.50000  360.500000  381.940002  372.720001   60717500.0   \n",
       "2020-09-14  420.00000  373.299988  380.950012  419.619995   82377400.0   \n",
       "\n",
       "             Adj Close  \n",
       "Date                    \n",
       "2020-09-08  330.209991  \n",
       "2020-09-09  366.279999  \n",
       "2020-09-10  371.339996  \n",
       "2020-09-11  372.720001  \n",
       "2020-09-14  419.619995  "
      ]
     },
     "execution_count": 7,
     "metadata": {},
     "output_type": "execute_result"
    }
   ],
   "source": [
    "stock.tail()"
   ]
  },
  {
   "cell_type": "markdown",
   "metadata": {},
   "source": [
    "Simple Rate of Return"
   ]
  },
  {
   "cell_type": "code",
   "execution_count": 9,
   "metadata": {},
   "outputs": [
    {
     "name": "stdout",
     "output_type": "stream",
     "text": [
      "Date\n",
      "2015-12-31         NaN\n",
      "2016-01-04   -0.069164\n",
      "2016-01-05    0.000090\n",
      "2016-01-06   -0.019648\n",
      "2016-01-07   -0.015477\n",
      "                ...   \n",
      "2020-09-08   -0.210628\n",
      "2020-09-09    0.109234\n",
      "2020-09-10    0.013815\n",
      "2020-09-11    0.003716\n",
      "2020-09-14    0.125832\n",
      "Name: simple_return, Length: 1184, dtype: float64\n"
     ]
    }
   ],
   "source": [
    "stock['simple_return']=(stock['Adj Close']/stock['Adj Close'].shift(1)-1)\n",
    "print(stock['simple_return'])"
   ]
  },
  {
   "cell_type": "code",
   "execution_count": 16,
   "metadata": {
    "scrolled": true
   },
   "outputs": [
    {
     "data": {
      "image/png": "[encoded data removed]",
      "text/plain": [
       "<Figure size 576x360 with 1 Axes>"
      ]
     },
     "metadata": {
      "needs_background": "light"
     },
     "output_type": "display_data"
    }
   ],
   "source": [
    "stock['simple_return'].plot(figsize =(8,5))\n",
    "plt.show()"
   ]
  },
  {
   "cell_type": "code",
   "execution_count": 12,
   "metadata": {},
   "outputs": [
    {
     "data": {
      "text/plain": [
       "0.0024909569100445583"
      ]
     },
     "execution_count": 12,
     "metadata": {},
     "output_type": "execute_result"
    }
   ],
   "source": [
    "avg_returns_d = stock['simple_return'].mean()\n",
    "avg_returns_d"
   ]
  },
  {
   "cell_type": "code",
   "execution_count": 20,
   "metadata": {},
   "outputs": [
    {
     "data": {
      "text/plain": [
       "0.6351940120613624"
      ]
     },
     "execution_count": 20,
     "metadata": {},
     "output_type": "execute_result"
    }
   ],
   "source": [
    "avg_returns_a = stock['simple_return'].mean()*255\n",
    "avg_returns_a"
   ]
  },
  {
   "cell_type": "code",
   "execution_count": 27,
   "metadata": {},
   "outputs": [
    {
     "name": "stdout",
     "output_type": "stream",
     "text": [
      "TSLA's annual simple return is around 63.5194 %\n"
     ]
    }
   ],
   "source": [
    "print(stock_lists[0]+\"'s annual simple return is around \" + str(round(avg_returns_a*100,5))+ \" %\")"
   ]
  },
  {
   "cell_type": "markdown",
   "metadata": {},
   "source": [
    "Log returns"
   ]
  },
  {
   "cell_type": "code",
   "execution_count": 29,
   "metadata": {},
   "outputs": [
    {
     "name": "stdout",
     "output_type": "stream",
     "text": [
      "Date\n",
      "2015-12-31         NaN\n",
      "2016-01-04   -0.071672\n",
      "2016-01-05    0.000090\n",
      "2016-01-06   -0.019844\n",
      "2016-01-07   -0.015598\n",
      "                ...   \n",
      "2020-09-08   -0.236518\n",
      "2020-09-09    0.103669\n",
      "2020-09-10    0.013720\n",
      "2020-09-11    0.003709\n",
      "2020-09-14    0.118522\n",
      "Name: log_return, Length: 1184, dtype: float64\n"
     ]
    }
   ],
   "source": [
    "stock['log_return'] = np.log(stock['Adj Close']/stock['Adj Close'].shift(1))\n",
    "print(stock['log_return'])"
   ]
  },
  {
   "cell_type": "code",
   "execution_count": 30,
   "metadata": {},
   "outputs": [
    {
     "data": {
      "image/png": "[encoded data removed]",
      "text/plain": [
       "<Figure size 576x360 with 1 Axes>"
      ]
     },
     "metadata": {
      "needs_background": "light"
     },
     "output_type": "display_data"
    }
   ],
   "source": [
    "stock['log_return'].plot(figsize =(8,5))\n",
    "plt.show()"
   ]
  },
  {
   "cell_type": "code",
   "execution_count": 31,
   "metadata": {},
   "outputs": [
    {
     "data": {
      "text/plain": [
       "0.0018327192513719246"
      ]
     },
     "execution_count": 31,
     "metadata": {},
     "output_type": "execute_result"
    }
   ],
   "source": [
    "log_returns_d = stock['log_return'].mean()\n",
    "log_returns_d"
   ]
  },
  {
   "cell_type": "code",
   "execution_count": 33,
   "metadata": {},
   "outputs": [
    {
     "data": {
      "text/plain": [
       "0.4673434090998408"
      ]
     },
     "execution_count": 33,
     "metadata": {},
     "output_type": "execute_result"
    }
   ],
   "source": [
    "log_returns_a = stock['log_return'].mean()*255\n",
    "log_returns_a"
   ]
  },
  {
   "cell_type": "code",
   "execution_count": 34,
   "metadata": {},
   "outputs": [
    {
     "name": "stdout",
     "output_type": "stream",
     "text": [
      "TSLA's annual log return is around 46.73434 %\n"
     ]
    }
   ],
   "source": [
    "print(stock_lists[0]+\"'s annual log return is around \" + str(round(log_returns_a*100,5))+ \" %\")"
   ]
  },
  {
   "cell_type": "code",
   "execution_count": null,
   "metadata": {},
   "outputs": [],
   "source": []
  }
 ],
 "metadata": {
  "kernelspec": {
   "display_name": "Python 3",
   "language": "python",
   "name": "python3"
  },
  "language_info": {
   "codemirror_mode": {
    "name": "ipython",
    "version": 3
   },
   "file_extension": ".py",
   "mimetype": "text/x-python",
   "name": "python",
   "nbconvert_exporter": "python",
   "pygments_lexer": "ipython3",
   "version": "3.7.6"
  }
 },
 "nbformat": 4,
 "nbformat_minor": 4
}

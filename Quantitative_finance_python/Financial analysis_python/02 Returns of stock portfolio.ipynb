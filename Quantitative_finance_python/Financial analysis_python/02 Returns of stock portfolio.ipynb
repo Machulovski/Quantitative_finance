{
 "cells": [
  {
   "cell_type": "code",
   "execution_count": 1,
   "metadata": {},
   "outputs": [
    {
     "name": "stderr",
     "output_type": "stream",
     "text": [
      "C:\\Users\\mikex\\anaconda3\\lib\\site-packages\\pandas_datareader\\compat\\__init__.py:7: FutureWarning: pandas.util.testing is deprecated. Use the functions in the public API at pandas.testing instead.\n",
      "  from pandas.util.testing import assert_frame_equal\n"
     ]
    }
   ],
   "source": [
    "import numpy as np\n",
    "import pandas as pd\n",
    "from pandas_datareader import data as wb\n",
    "import matplotlib.pyplot as plt"
   ]
  },
  {
   "cell_type": "code",
   "execution_count": 2,
   "metadata": {},
   "outputs": [],
   "source": [
    "tickers = ['TSLA','AAPL','AMZN','MSFT','BABA','GOOG','0700.HK']\n",
    "mydata = pd.DataFrame()\n",
    "start_date = '2016-1-1'\n",
    "for t in tickers:\n",
    "    mydata[t] = wb.DataReader(t,data_source='yahoo', start=start_date)['Adj Close']"
   ]
  },
  {
   "cell_type": "code",
   "execution_count": 3,
   "metadata": {},
   "outputs": [
    {
     "name": "stdout",
     "output_type": "stream",
     "text": [
      "<class 'pandas.core.frame.DataFrame'>\n",
      "DatetimeIndex: 1184 entries, 2015-12-31 to 2020-09-14\n",
      "Data columns (total 7 columns):\n",
      " #   Column   Non-Null Count  Dtype  \n",
      "---  ------   --------------  -----  \n",
      " 0   TSLA     1184 non-null   float64\n",
      " 1   AAPL     1184 non-null   float64\n",
      " 2   AMZN     1184 non-null   float64\n",
      " 3   MSFT     1184 non-null   float64\n",
      " 4   BABA     1184 non-null   float64\n",
      " 5   GOOG     1184 non-null   float64\n",
      " 6   0700.HK  1132 non-null   float64\n",
      "dtypes: float64(7)\n",
      "memory usage: 74.0 KB\n"
     ]
    }
   ],
   "source": [
    "mydata.info()"
   ]
  },
  {
   "cell_type": "code",
   "execution_count": 4,
   "metadata": {},
   "outputs": [
    {
     "data": {
      "text/html": [
       "<div>\n",
       "<style scoped>\n",
       "    .dataframe tbody tr th:only-of-type {\n",
       "        vertical-align: middle;\n",
       "    }\n",
       "\n",
       "    .dataframe tbody tr th {\n",
       "        vertical-align: top;\n",
       "    }\n",
       "\n",
       "    .dataframe thead th {\n",
       "        text-align: right;\n",
       "    }\n",
       "</style>\n",
       "<table border=\"1\" class=\"dataframe\">\n",
       "  <thead>\n",
       "    <tr style=\"text-align: right;\">\n",
       "      <th></th>\n",
       "      <th>TSLA</th>\n",
       "      <th>AAPL</th>\n",
       "      <th>AMZN</th>\n",
       "      <th>MSFT</th>\n",
       "      <th>BABA</th>\n",
       "      <th>GOOG</th>\n",
       "      <th>0700.HK</th>\n",
       "    </tr>\n",
       "    <tr>\n",
       "      <th>Date</th>\n",
       "      <th></th>\n",
       "      <th></th>\n",
       "      <th></th>\n",
       "      <th></th>\n",
       "      <th></th>\n",
       "      <th></th>\n",
       "      <th></th>\n",
       "    </tr>\n",
       "  </thead>\n",
       "  <tbody>\n",
       "    <tr>\n",
       "      <th>2015-12-31</th>\n",
       "      <td>48.001999</td>\n",
       "      <td>24.422157</td>\n",
       "      <td>675.890015</td>\n",
       "      <td>50.759815</td>\n",
       "      <td>81.269997</td>\n",
       "      <td>758.880005</td>\n",
       "      <td>NaN</td>\n",
       "    </tr>\n",
       "    <tr>\n",
       "      <th>2016-01-04</th>\n",
       "      <td>44.681999</td>\n",
       "      <td>24.443037</td>\n",
       "      <td>636.989990</td>\n",
       "      <td>50.137657</td>\n",
       "      <td>76.690002</td>\n",
       "      <td>741.840027</td>\n",
       "      <td>147.177078</td>\n",
       "    </tr>\n",
       "    <tr>\n",
       "      <th>2016-01-05</th>\n",
       "      <td>44.686001</td>\n",
       "      <td>23.830513</td>\n",
       "      <td>633.789978</td>\n",
       "      <td>50.366394</td>\n",
       "      <td>78.629997</td>\n",
       "      <td>742.580017</td>\n",
       "      <td>145.498993</td>\n",
       "    </tr>\n",
       "    <tr>\n",
       "      <th>2016-01-06</th>\n",
       "      <td>43.807999</td>\n",
       "      <td>23.364161</td>\n",
       "      <td>632.650024</td>\n",
       "      <td>49.451469</td>\n",
       "      <td>77.330002</td>\n",
       "      <td>743.619995</td>\n",
       "      <td>144.117065</td>\n",
       "    </tr>\n",
       "    <tr>\n",
       "      <th>2016-01-07</th>\n",
       "      <td>43.130001</td>\n",
       "      <td>22.378082</td>\n",
       "      <td>607.940002</td>\n",
       "      <td>47.731419</td>\n",
       "      <td>72.720001</td>\n",
       "      <td>726.390015</td>\n",
       "      <td>138.391861</td>\n",
       "    </tr>\n",
       "  </tbody>\n",
       "</table>\n",
       "</div>"
      ],
      "text/plain": [
       "                 TSLA       AAPL        AMZN       MSFT       BABA  \\\n",
       "Date                                                                 \n",
       "2015-12-31  48.001999  24.422157  675.890015  50.759815  81.269997   \n",
       "2016-01-04  44.681999  24.443037  636.989990  50.137657  76.690002   \n",
       "2016-01-05  44.686001  23.830513  633.789978  50.366394  78.629997   \n",
       "2016-01-06  43.807999  23.364161  632.650024  49.451469  77.330002   \n",
       "2016-01-07  43.130001  22.378082  607.940002  47.731419  72.720001   \n",
       "\n",
       "                  GOOG     0700.HK  \n",
       "Date                                \n",
       "2015-12-31  758.880005         NaN  \n",
       "2016-01-04  741.840027  147.177078  \n",
       "2016-01-05  742.580017  145.498993  \n",
       "2016-01-06  743.619995  144.117065  \n",
       "2016-01-07  726.390015  138.391861  "
      ]
     },
     "execution_count": 4,
     "metadata": {},
     "output_type": "execute_result"
    }
   ],
   "source": [
    "mydata.head()"
   ]
  },
  {
   "cell_type": "code",
   "execution_count": 5,
   "metadata": {},
   "outputs": [
    {
     "data": {
      "text/html": [
       "<div>\n",
       "<style scoped>\n",
       "    .dataframe tbody tr th:only-of-type {\n",
       "        vertical-align: middle;\n",
       "    }\n",
       "\n",
       "    .dataframe tbody tr th {\n",
       "        vertical-align: top;\n",
       "    }\n",
       "\n",
       "    .dataframe thead th {\n",
       "        text-align: right;\n",
       "    }\n",
       "</style>\n",
       "<table border=\"1\" class=\"dataframe\">\n",
       "  <thead>\n",
       "    <tr style=\"text-align: right;\">\n",
       "      <th></th>\n",
       "      <th>TSLA</th>\n",
       "      <th>AAPL</th>\n",
       "      <th>AMZN</th>\n",
       "      <th>MSFT</th>\n",
       "      <th>BABA</th>\n",
       "      <th>GOOG</th>\n",
       "      <th>0700.HK</th>\n",
       "    </tr>\n",
       "    <tr>\n",
       "      <th>Date</th>\n",
       "      <th></th>\n",
       "      <th></th>\n",
       "      <th></th>\n",
       "      <th></th>\n",
       "      <th></th>\n",
       "      <th></th>\n",
       "      <th></th>\n",
       "    </tr>\n",
       "  </thead>\n",
       "  <tbody>\n",
       "    <tr>\n",
       "      <th>2020-09-08</th>\n",
       "      <td>330.209991</td>\n",
       "      <td>112.820000</td>\n",
       "      <td>3149.840088</td>\n",
       "      <td>202.660004</td>\n",
       "      <td>270.019989</td>\n",
       "      <td>1532.390015</td>\n",
       "      <td>508.5</td>\n",
       "    </tr>\n",
       "    <tr>\n",
       "      <th>2020-09-09</th>\n",
       "      <td>366.279999</td>\n",
       "      <td>117.320000</td>\n",
       "      <td>3268.610107</td>\n",
       "      <td>211.289993</td>\n",
       "      <td>273.149994</td>\n",
       "      <td>1556.959961</td>\n",
       "      <td>504.0</td>\n",
       "    </tr>\n",
       "    <tr>\n",
       "      <th>2020-09-10</th>\n",
       "      <td>371.339996</td>\n",
       "      <td>113.489998</td>\n",
       "      <td>3175.110107</td>\n",
       "      <td>205.369995</td>\n",
       "      <td>267.549988</td>\n",
       "      <td>1532.020020</td>\n",
       "      <td>506.0</td>\n",
       "    </tr>\n",
       "    <tr>\n",
       "      <th>2020-09-11</th>\n",
       "      <td>372.720001</td>\n",
       "      <td>112.000000</td>\n",
       "      <td>3116.219971</td>\n",
       "      <td>204.029999</td>\n",
       "      <td>271.609985</td>\n",
       "      <td>1520.719971</td>\n",
       "      <td>516.0</td>\n",
       "    </tr>\n",
       "    <tr>\n",
       "      <th>2020-09-14</th>\n",
       "      <td>419.619995</td>\n",
       "      <td>115.360001</td>\n",
       "      <td>3102.969971</td>\n",
       "      <td>205.410004</td>\n",
       "      <td>274.100006</td>\n",
       "      <td>1519.280029</td>\n",
       "      <td>529.5</td>\n",
       "    </tr>\n",
       "  </tbody>\n",
       "</table>\n",
       "</div>"
      ],
      "text/plain": [
       "                  TSLA        AAPL         AMZN        MSFT        BABA  \\\n",
       "Date                                                                      \n",
       "2020-09-08  330.209991  112.820000  3149.840088  202.660004  270.019989   \n",
       "2020-09-09  366.279999  117.320000  3268.610107  211.289993  273.149994   \n",
       "2020-09-10  371.339996  113.489998  3175.110107  205.369995  267.549988   \n",
       "2020-09-11  372.720001  112.000000  3116.219971  204.029999  271.609985   \n",
       "2020-09-14  419.619995  115.360001  3102.969971  205.410004  274.100006   \n",
       "\n",
       "                   GOOG  0700.HK  \n",
       "Date                              \n",
       "2020-09-08  1532.390015    508.5  \n",
       "2020-09-09  1556.959961    504.0  \n",
       "2020-09-10  1532.020020    506.0  \n",
       "2020-09-11  1520.719971    516.0  \n",
       "2020-09-14  1519.280029    529.5  "
      ]
     },
     "execution_count": 5,
     "metadata": {},
     "output_type": "execute_result"
    }
   ],
   "source": [
    "mydata.tail()"
   ]
  },
  {
   "cell_type": "markdown",
   "metadata": {},
   "source": [
    "Normaliztion to 100:"
   ]
  },
  {
   "cell_type": "code",
   "execution_count": 6,
   "metadata": {},
   "outputs": [
    {
     "data": {
      "text/plain": [
       "TSLA        48.001999\n",
       "AAPL        24.422157\n",
       "AMZN       675.890015\n",
       "MSFT        50.759815\n",
       "BABA        81.269997\n",
       "GOOG       758.880005\n",
       "0700.HK           NaN\n",
       "Name: 2015-12-31 00:00:00, dtype: float64"
      ]
     },
     "execution_count": 6,
     "metadata": {},
     "output_type": "execute_result"
    }
   ],
   "source": [
    "mydata.iloc[0]"
   ]
  },
  {
   "cell_type": "code",
   "execution_count": 7,
   "metadata": {},
   "outputs": [],
   "source": [
    "mydata['0700.HK'][0]=147.18"
   ]
  },
  {
   "cell_type": "code",
   "execution_count": 8,
   "metadata": {
    "scrolled": true
   },
   "outputs": [
    {
     "data": {
      "image/png": "[encoded data removed]",
      "text/plain": [
       "<Figure size 1080x432 with 1 Axes>"
      ]
     },
     "metadata": {
      "needs_background": "light"
     },
     "output_type": "display_data"
    }
   ],
   "source": [
    "(mydata/mydata.iloc[0]*100).plot(figsize=(15,6))\n",
    "plt.show()"
   ]
  },
  {
   "cell_type": "markdown",
   "metadata": {},
   "source": [
    "Calculate returns of the portfolio"
   ]
  },
  {
   "cell_type": "code",
   "execution_count": 9,
   "metadata": {},
   "outputs": [
    {
     "data": {
      "text/html": [
       "<div>\n",
       "<style scoped>\n",
       "    .dataframe tbody tr th:only-of-type {\n",
       "        vertical-align: middle;\n",
       "    }\n",
       "\n",
       "    .dataframe tbody tr th {\n",
       "        vertical-align: top;\n",
       "    }\n",
       "\n",
       "    .dataframe thead th {\n",
       "        text-align: right;\n",
       "    }\n",
       "</style>\n",
       "<table border=\"1\" class=\"dataframe\">\n",
       "  <thead>\n",
       "    <tr style=\"text-align: right;\">\n",
       "      <th></th>\n",
       "      <th>TSLA</th>\n",
       "      <th>AAPL</th>\n",
       "      <th>AMZN</th>\n",
       "      <th>MSFT</th>\n",
       "      <th>BABA</th>\n",
       "      <th>GOOG</th>\n",
       "      <th>0700.HK</th>\n",
       "    </tr>\n",
       "    <tr>\n",
       "      <th>Date</th>\n",
       "      <th></th>\n",
       "      <th></th>\n",
       "      <th></th>\n",
       "      <th></th>\n",
       "      <th></th>\n",
       "      <th></th>\n",
       "      <th></th>\n",
       "    </tr>\n",
       "  </thead>\n",
       "  <tbody>\n",
       "    <tr>\n",
       "      <th>2015-12-31</th>\n",
       "      <td>NaN</td>\n",
       "      <td>NaN</td>\n",
       "      <td>NaN</td>\n",
       "      <td>NaN</td>\n",
       "      <td>NaN</td>\n",
       "      <td>NaN</td>\n",
       "      <td>NaN</td>\n",
       "    </tr>\n",
       "    <tr>\n",
       "      <th>2016-01-04</th>\n",
       "      <td>-0.069164</td>\n",
       "      <td>0.000855</td>\n",
       "      <td>-0.057554</td>\n",
       "      <td>-0.012257</td>\n",
       "      <td>-0.056355</td>\n",
       "      <td>-0.022454</td>\n",
       "      <td>-0.000020</td>\n",
       "    </tr>\n",
       "    <tr>\n",
       "      <th>2016-01-05</th>\n",
       "      <td>0.000090</td>\n",
       "      <td>-0.025059</td>\n",
       "      <td>-0.005024</td>\n",
       "      <td>0.004562</td>\n",
       "      <td>0.025297</td>\n",
       "      <td>0.000998</td>\n",
       "      <td>-0.011402</td>\n",
       "    </tr>\n",
       "    <tr>\n",
       "      <th>2016-01-06</th>\n",
       "      <td>-0.019648</td>\n",
       "      <td>-0.019570</td>\n",
       "      <td>-0.001799</td>\n",
       "      <td>-0.018165</td>\n",
       "      <td>-0.016533</td>\n",
       "      <td>0.001400</td>\n",
       "      <td>-0.009498</td>\n",
       "    </tr>\n",
       "    <tr>\n",
       "      <th>2016-01-07</th>\n",
       "      <td>-0.015477</td>\n",
       "      <td>-0.042205</td>\n",
       "      <td>-0.039058</td>\n",
       "      <td>-0.034783</td>\n",
       "      <td>-0.059615</td>\n",
       "      <td>-0.023170</td>\n",
       "      <td>-0.039726</td>\n",
       "    </tr>\n",
       "  </tbody>\n",
       "</table>\n",
       "</div>"
      ],
      "text/plain": [
       "                TSLA      AAPL      AMZN      MSFT      BABA      GOOG  \\\n",
       "Date                                                                     \n",
       "2015-12-31       NaN       NaN       NaN       NaN       NaN       NaN   \n",
       "2016-01-04 -0.069164  0.000855 -0.057554 -0.012257 -0.056355 -0.022454   \n",
       "2016-01-05  0.000090 -0.025059 -0.005024  0.004562  0.025297  0.000998   \n",
       "2016-01-06 -0.019648 -0.019570 -0.001799 -0.018165 -0.016533  0.001400   \n",
       "2016-01-07 -0.015477 -0.042205 -0.039058 -0.034783 -0.059615 -0.023170   \n",
       "\n",
       "             0700.HK  \n",
       "Date                  \n",
       "2015-12-31       NaN  \n",
       "2016-01-04 -0.000020  \n",
       "2016-01-05 -0.011402  \n",
       "2016-01-06 -0.009498  \n",
       "2016-01-07 -0.039726  "
      ]
     },
     "execution_count": 9,
     "metadata": {},
     "output_type": "execute_result"
    }
   ],
   "source": [
    "returns = (mydata/mydata.shift(1))-1\n",
    "returns.head()"
   ]
  },
  {
   "cell_type": "code",
   "execution_count": 11,
   "metadata": {},
   "outputs": [],
   "source": [
    "weights = np.array([0.20,0.20,0.20,0.10,0.10,0.10,0.10])"
   ]
  },
  {
   "cell_type": "code",
   "execution_count": 12,
   "metadata": {},
   "outputs": [
    {
     "data": {
      "text/plain": [
       "array([        nan, -0.03428114, -0.00405322, ..., -0.01554433,\n",
       "       -0.00348832,  0.03443068])"
      ]
     },
     "execution_count": 12,
     "metadata": {},
     "output_type": "execute_result"
    }
   ],
   "source": [
    "np.dot(returns,weights)"
   ]
  },
  {
   "cell_type": "code",
   "execution_count": 13,
   "metadata": {},
   "outputs": [
    {
     "data": {
      "text/plain": [
       "TSLA       0.622739\n",
       "AAPL       0.372471\n",
       "AMZN       0.367121\n",
       "MSFT       0.334018\n",
       "BABA       0.309316\n",
       "GOOG       0.181052\n",
       "0700.HK    0.355330\n",
       "dtype: float64"
      ]
     },
     "execution_count": 13,
     "metadata": {},
     "output_type": "execute_result"
    }
   ],
   "source": [
    "annual_returns = returns.mean()*250\n",
    "annual_returns"
   ]
  },
  {
   "cell_type": "code",
   "execution_count": 14,
   "metadata": {},
   "outputs": [
    {
     "data": {
      "text/plain": [
       "0.39043798176100886"
      ]
     },
     "execution_count": 14,
     "metadata": {},
     "output_type": "execute_result"
    }
   ],
   "source": [
    "np.dot(annual_returns, weights)"
   ]
  },
  {
   "cell_type": "code",
   "execution_count": 15,
   "metadata": {},
   "outputs": [],
   "source": [
    "pfolio_1 = str(round(np.dot(annual_returns, weights)*100, 5))+ ' %'"
   ]
  },
  {
   "cell_type": "code",
   "execution_count": 17,
   "metadata": {},
   "outputs": [
    {
     "name": "stdout",
     "output_type": "stream",
     "text": [
      "39.0438 %\n"
     ]
    }
   ],
   "source": [
    "print(pfolio_1)"
   ]
  },
  {
   "cell_type": "code",
   "execution_count": 18,
   "metadata": {},
   "outputs": [],
   "source": [
    "weights_2 = np.array([0.15,0.15,0.15,0.15,0.10,0.10,0.15])"
   ]
  },
  {
   "cell_type": "code",
   "execution_count": 19,
   "metadata": {},
   "outputs": [
    {
     "name": "stdout",
     "output_type": "stream",
     "text": [
      "39.0438 %\n",
      "35.67888 %\n"
     ]
    }
   ],
   "source": [
    "pfolio_2 = str(round(np.dot(annual_returns, weights_2)*100, 5))+ ' %'\n",
    "print(pfolio_1)\n",
    "print(pfolio_2)"
   ]
  },
  {
   "cell_type": "code",
   "execution_count": null,
   "metadata": {},
   "outputs": [],
   "source": []
  }
 ],
 "metadata": {
  "kernelspec": {
   "display_name": "Python 3",
   "language": "python",
   "name": "python3"
  },
  "language_info": {
   "codemirror_mode": {
    "name": "ipython",
    "version": 3
   },
   "file_extension": ".py",
   "mimetype": "text/x-python",
   "name": "python",
   "nbconvert_exporter": "python",
   "pygments_lexer": "ipython3",
   "version": "3.7.6"
  }
 },
 "nbformat": 4,
 "nbformat_minor": 4
}

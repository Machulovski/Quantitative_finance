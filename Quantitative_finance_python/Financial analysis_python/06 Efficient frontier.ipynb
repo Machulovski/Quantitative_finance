{
 "cells": [
  {
   "cell_type": "code",
   "execution_count": 1,
   "metadata": {},
   "outputs": [
    {
     "name": "stderr",
     "output_type": "stream",
     "text": [
      "C:\\Users\\mikex\\anaconda3\\lib\\site-packages\\pandas_datareader\\compat\\__init__.py:7: FutureWarning: pandas.util.testing is deprecated. Use the functions in the public API at pandas.testing instead.\n",
      "  from pandas.util.testing import assert_frame_equal\n"
     ]
    }
   ],
   "source": [
    "import numpy as np\n",
    "import pandas as pd\n",
    "from pandas_datareader import data as wb\n",
    "import matplotlib.pyplot as plt\n",
    "%matplotlib inline"
   ]
  },
  {
   "cell_type": "code",
   "execution_count": 2,
   "metadata": {},
   "outputs": [],
   "source": [
    "assets = ['TSLA','AAPL']\n",
    "pf_data = pd.DataFrame()\n",
    "start_date = '2019-1-1'\n",
    "for a in assets:\n",
    "    pf_data[a] = wb.DataReader(a,data_source='yahoo', start=start_date)['Adj Close']"
   ]
  },
  {
   "cell_type": "code",
   "execution_count": 3,
   "metadata": {},
   "outputs": [
    {
     "data": {
      "text/html": [
       "<div>\n",
       "<style scoped>\n",
       "    .dataframe tbody tr th:only-of-type {\n",
       "        vertical-align: middle;\n",
       "    }\n",
       "\n",
       "    .dataframe tbody tr th {\n",
       "        vertical-align: top;\n",
       "    }\n",
       "\n",
       "    .dataframe thead th {\n",
       "        text-align: right;\n",
       "    }\n",
       "</style>\n",
       "<table border=\"1\" class=\"dataframe\">\n",
       "  <thead>\n",
       "    <tr style=\"text-align: right;\">\n",
       "      <th></th>\n",
       "      <th>TSLA</th>\n",
       "      <th>AAPL</th>\n",
       "    </tr>\n",
       "    <tr>\n",
       "      <th>Date</th>\n",
       "      <th></th>\n",
       "      <th></th>\n",
       "    </tr>\n",
       "  </thead>\n",
       "  <tbody>\n",
       "    <tr>\n",
       "      <th>2020-09-09</th>\n",
       "      <td>366.279999</td>\n",
       "      <td>117.320000</td>\n",
       "    </tr>\n",
       "    <tr>\n",
       "      <th>2020-09-10</th>\n",
       "      <td>371.339996</td>\n",
       "      <td>113.489998</td>\n",
       "    </tr>\n",
       "    <tr>\n",
       "      <th>2020-09-11</th>\n",
       "      <td>372.720001</td>\n",
       "      <td>112.000000</td>\n",
       "    </tr>\n",
       "    <tr>\n",
       "      <th>2020-09-14</th>\n",
       "      <td>419.619995</td>\n",
       "      <td>115.360001</td>\n",
       "    </tr>\n",
       "    <tr>\n",
       "      <th>2020-09-15</th>\n",
       "      <td>449.760010</td>\n",
       "      <td>115.540001</td>\n",
       "    </tr>\n",
       "  </tbody>\n",
       "</table>\n",
       "</div>"
      ],
      "text/plain": [
       "                  TSLA        AAPL\n",
       "Date                              \n",
       "2020-09-09  366.279999  117.320000\n",
       "2020-09-10  371.339996  113.489998\n",
       "2020-09-11  372.720001  112.000000\n",
       "2020-09-14  419.619995  115.360001\n",
       "2020-09-15  449.760010  115.540001"
      ]
     },
     "execution_count": 3,
     "metadata": {},
     "output_type": "execute_result"
    }
   ],
   "source": [
    "pf_data.tail()"
   ]
  },
  {
   "cell_type": "code",
   "execution_count": 4,
   "metadata": {},
   "outputs": [
    {
     "data": {
      "text/plain": [
       "<matplotlib.axes._subplots.AxesSubplot at 0x2c56f847cc8>"
      ]
     },
     "execution_count": 4,
     "metadata": {},
     "output_type": "execute_result"
    },
    {
     "data": {
      "image/png": "[encoded data removed]",
      "text/plain": [
       "<Figure size 720x360 with 1 Axes>"
      ]
     },
     "metadata": {
      "needs_background": "light"
     },
     "output_type": "display_data"
    }
   ],
   "source": [
    "(pf_data/pf_data.iloc[0]*100).plot(figsize=(10, 5))"
   ]
  },
  {
   "cell_type": "code",
   "execution_count": 5,
   "metadata": {},
   "outputs": [],
   "source": [
    "log_returns = np.log(pf_data/pf_data.shift(1))"
   ]
  },
  {
   "cell_type": "code",
   "execution_count": 6,
   "metadata": {},
   "outputs": [
    {
     "data": {
      "text/plain": [
       "TSLA    1.110820\n",
       "AAPL    0.637646\n",
       "dtype: float64"
      ]
     },
     "execution_count": 6,
     "metadata": {},
     "output_type": "execute_result"
    }
   ],
   "source": [
    "log_returns.mean()*250"
   ]
  },
  {
   "cell_type": "code",
   "execution_count": 7,
   "metadata": {},
   "outputs": [
    {
     "data": {
      "text/html": [
       "<div>\n",
       "<style scoped>\n",
       "    .dataframe tbody tr th:only-of-type {\n",
       "        vertical-align: middle;\n",
       "    }\n",
       "\n",
       "    .dataframe tbody tr th {\n",
       "        vertical-align: top;\n",
       "    }\n",
       "\n",
       "    .dataframe thead th {\n",
       "        text-align: right;\n",
       "    }\n",
       "</style>\n",
       "<table border=\"1\" class=\"dataframe\">\n",
       "  <thead>\n",
       "    <tr style=\"text-align: right;\">\n",
       "      <th></th>\n",
       "      <th>TSLA</th>\n",
       "      <th>AAPL</th>\n",
       "    </tr>\n",
       "  </thead>\n",
       "  <tbody>\n",
       "    <tr>\n",
       "      <th>TSLA</th>\n",
       "      <td>0.550455</td>\n",
       "      <td>0.132751</td>\n",
       "    </tr>\n",
       "    <tr>\n",
       "      <th>AAPL</th>\n",
       "      <td>0.132751</td>\n",
       "      <td>0.145564</td>\n",
       "    </tr>\n",
       "  </tbody>\n",
       "</table>\n",
       "</div>"
      ],
      "text/plain": [
       "          TSLA      AAPL\n",
       "TSLA  0.550455  0.132751\n",
       "AAPL  0.132751  0.145564"
      ]
     },
     "execution_count": 7,
     "metadata": {},
     "output_type": "execute_result"
    }
   ],
   "source": [
    "log_returns.cov()*250"
   ]
  },
  {
   "cell_type": "code",
   "execution_count": 8,
   "metadata": {},
   "outputs": [
    {
     "data": {
      "text/html": [
       "<div>\n",
       "<style scoped>\n",
       "    .dataframe tbody tr th:only-of-type {\n",
       "        vertical-align: middle;\n",
       "    }\n",
       "\n",
       "    .dataframe tbody tr th {\n",
       "        vertical-align: top;\n",
       "    }\n",
       "\n",
       "    .dataframe thead th {\n",
       "        text-align: right;\n",
       "    }\n",
       "</style>\n",
       "<table border=\"1\" class=\"dataframe\">\n",
       "  <thead>\n",
       "    <tr style=\"text-align: right;\">\n",
       "      <th></th>\n",
       "      <th>TSLA</th>\n",
       "      <th>AAPL</th>\n",
       "    </tr>\n",
       "  </thead>\n",
       "  <tbody>\n",
       "    <tr>\n",
       "      <th>TSLA</th>\n",
       "      <td>1.000000</td>\n",
       "      <td>0.468975</td>\n",
       "    </tr>\n",
       "    <tr>\n",
       "      <th>AAPL</th>\n",
       "      <td>0.468975</td>\n",
       "      <td>1.000000</td>\n",
       "    </tr>\n",
       "  </tbody>\n",
       "</table>\n",
       "</div>"
      ],
      "text/plain": [
       "          TSLA      AAPL\n",
       "TSLA  1.000000  0.468975\n",
       "AAPL  0.468975  1.000000"
      ]
     },
     "execution_count": 8,
     "metadata": {},
     "output_type": "execute_result"
    }
   ],
   "source": [
    "log_returns.corr()"
   ]
  },
  {
   "cell_type": "code",
   "execution_count": 9,
   "metadata": {},
   "outputs": [
    {
     "data": {
      "text/plain": [
       "2"
      ]
     },
     "execution_count": 9,
     "metadata": {},
     "output_type": "execute_result"
    }
   ],
   "source": [
    "num_assets = len(assets)\n",
    "num_assets"
   ]
  },
  {
   "cell_type": "code",
   "execution_count": 10,
   "metadata": {},
   "outputs": [
    {
     "data": {
      "text/plain": [
       "array([0.64585805, 0.5497056 ])"
      ]
     },
     "execution_count": 10,
     "metadata": {},
     "output_type": "execute_result"
    }
   ],
   "source": [
    "arr = np.random.random(2)\n",
    "arr"
   ]
  },
  {
   "cell_type": "code",
   "execution_count": 11,
   "metadata": {},
   "outputs": [
    {
     "data": {
      "text/plain": [
       "1.1955636425855647"
      ]
     },
     "execution_count": 11,
     "metadata": {},
     "output_type": "execute_result"
    }
   ],
   "source": [
    "arr[0]+arr[1]"
   ]
  },
  {
   "cell_type": "code",
   "execution_count": 12,
   "metadata": {},
   "outputs": [
    {
     "data": {
      "text/plain": [
       "array([0.44912156, 0.55087844])"
      ]
     },
     "execution_count": 12,
     "metadata": {},
     "output_type": "execute_result"
    }
   ],
   "source": [
    "weights = np.random.random(num_assets)\n",
    "weights /= np.sum(weights)\n",
    "# above means w1/(w1+w2) + w2/(w1+w2) = 1.0\n",
    "weights"
   ]
  },
  {
   "cell_type": "code",
   "execution_count": 13,
   "metadata": {},
   "outputs": [
    {
     "data": {
      "text/plain": [
       "1.0"
      ]
     },
     "execution_count": 13,
     "metadata": {},
     "output_type": "execute_result"
    }
   ],
   "source": [
    "weights[0]+weights[1]"
   ]
  },
  {
   "cell_type": "markdown",
   "metadata": {},
   "source": [
    "Expected Portfolio Return"
   ]
  },
  {
   "cell_type": "code",
   "execution_count": 14,
   "metadata": {},
   "outputs": [
    {
     "data": {
      "text/plain": [
       "0.8501587420625111"
      ]
     },
     "execution_count": 14,
     "metadata": {},
     "output_type": "execute_result"
    }
   ],
   "source": [
    "np.sum(weights * log_returns.mean())*250"
   ]
  },
  {
   "cell_type": "markdown",
   "metadata": {},
   "source": [
    "Expected portfolio variance"
   ]
  },
  {
   "cell_type": "code",
   "execution_count": 15,
   "metadata": {},
   "outputs": [
    {
     "data": {
      "text/plain": [
       "0.2208944813082414"
      ]
     },
     "execution_count": 15,
     "metadata": {},
     "output_type": "execute_result"
    }
   ],
   "source": [
    "np.dot(weights.T, np.dot(log_returns.cov()*250, weights))"
   ]
  },
  {
   "cell_type": "markdown",
   "metadata": {},
   "source": [
    "Expected portfolio volatility"
   ]
  },
  {
   "cell_type": "code",
   "execution_count": 16,
   "metadata": {},
   "outputs": [
    {
     "data": {
      "text/plain": [
       "0.46999412901465204"
      ]
     },
     "execution_count": 16,
     "metadata": {},
     "output_type": "execute_result"
    }
   ],
   "source": [
    "np.sqrt(np.dot(weights.T, np.dot(log_returns.cov()*250, weights)))"
   ]
  },
  {
   "cell_type": "code",
   "execution_count": 17,
   "metadata": {},
   "outputs": [
    {
     "data": {
      "text/plain": [
       "(array([0.94371051, 0.69763858, 0.78019916, 0.82847925, 0.83098773,\n",
       "        0.75499984, 0.95853856, 0.84237038, 0.90017425, 0.9917505 ,\n",
       "        0.93418696, 0.76488019, 0.98140747, 0.91816149, 0.99207711,\n",
       "        0.83455335, 0.75886087, 0.87101356, 0.85440224, 0.9185081 ,\n",
       "        1.00728842, 0.89312987, 0.94165504, 0.65248206, 0.8117298 ,\n",
       "        0.81459172, 1.05586642, 0.94436505, 0.97231285, 0.81908597,\n",
       "        0.89787092, 0.90089635, 0.80049578, 1.06785738, 1.09770136,\n",
       "        0.72766479, 1.01981428, 1.04888654, 0.95620078, 0.97115458,\n",
       "        1.04326959, 1.05493362, 0.86637311, 0.8844374 , 0.73823152,\n",
       "        0.80773118, 0.88413217, 0.93446467, 0.95865095, 1.05023514,\n",
       "        0.98763536, 0.91193153, 0.77768274, 0.92465825, 0.72751947,\n",
       "        0.88502297, 1.00290564, 0.69249514, 0.94089331, 0.76419377,\n",
       "        0.92380206, 0.87033014, 0.89835295, 0.8417143 , 0.97378511,\n",
       "        0.91030892, 0.99584674, 1.08638633, 0.75037743, 0.69912082,\n",
       "        0.93650672, 0.76541513, 0.76118731, 0.99594983, 0.88304486,\n",
       "        0.88112546, 1.02035858, 0.85827834, 0.73160641, 0.99841089,\n",
       "        0.71427576, 0.79014761, 0.8596628 , 0.83152414, 0.90553348,\n",
       "        1.03947109, 1.11027854, 0.84587185, 0.79383196, 0.75799099,\n",
       "        0.97917292, 0.83296985, 0.88988259, 1.03105869, 0.97143576,\n",
       "        0.87044757, 0.79494465, 0.84047608, 0.75189058, 0.96178977,\n",
       "        0.80888453, 0.82528514, 0.74587653, 1.09209796, 0.82568089,\n",
       "        0.87469981, 0.76566449, 0.87818999, 0.82292749, 0.92204735,\n",
       "        1.04980706, 0.83935003, 0.85612931, 0.89111768, 0.94171415,\n",
       "        0.74474104, 0.86669076, 0.69385682, 0.87372493, 0.82244716,\n",
       "        0.93454179, 0.84550259, 0.76514286, 0.76523837, 0.81964536,\n",
       "        0.72743409, 0.82189063, 0.70479693, 0.73464853, 0.98515849,\n",
       "        0.90796814, 0.79378696, 0.77635347, 0.72205477, 0.99624476,\n",
       "        0.87239287, 0.92643481, 1.05455653, 0.79514156, 1.09627818,\n",
       "        0.64535753, 0.78291884, 0.88325157, 0.84993969, 0.98554077,\n",
       "        0.82035411, 0.98531726, 0.91539858, 0.89429129, 0.80874522,\n",
       "        0.67505005, 0.8024518 , 0.87035104, 0.94472391, 0.85432268,\n",
       "        0.64320352, 0.88797817, 0.8469593 , 0.80583287, 0.92386933,\n",
       "        0.73730487, 0.83265704, 0.92457721, 0.91541663, 0.89857357,\n",
       "        0.90426872, 0.92712696, 1.04766775, 0.99340363, 1.11044248,\n",
       "        0.91188298, 0.90499886, 0.74970223, 0.72340098, 0.87671433,\n",
       "        0.84113763, 0.89368178, 0.90054668, 0.89422853, 0.84999881,\n",
       "        1.08723973, 0.98252041, 0.88779536, 0.69978735, 0.75782806,\n",
       "        0.86565767, 0.84875822, 0.81791457, 1.06278806, 0.90411944,\n",
       "        0.96784019, 1.0879609 , 1.07155038, 0.94697963, 0.7429741 ,\n",
       "        0.8661166 , 0.89468738, 0.79191817, 0.87372733, 0.89409321,\n",
       "        1.03950182, 0.7071212 , 0.91025951, 0.9278    , 0.7469824 ,\n",
       "        1.03175409, 0.98199207, 0.84923261, 0.98548882, 0.87362356,\n",
       "        0.75898449, 0.80835534, 0.83075234, 0.96381327, 0.81285628,\n",
       "        0.89149486, 0.90914284, 0.96014266, 0.78385987, 0.81095203,\n",
       "        0.72020895, 0.77696362, 0.89329323, 0.82685775, 0.84071434,\n",
       "        1.01072753, 0.9524308 , 0.769962  , 0.87360346, 0.98296835,\n",
       "        0.88376102, 0.8126935 , 0.87969791, 0.6796823 , 0.74348503,\n",
       "        0.8604466 , 0.93032427, 0.89242386, 0.77243313, 0.86098239,\n",
       "        0.74811802, 0.76423763, 0.96006384, 0.95556128, 0.96613568,\n",
       "        0.89811952, 0.85244377, 0.90430566, 0.89349892, 0.95065505,\n",
       "        1.0467374 , 1.00375493, 0.70427921, 0.64077818, 0.80098983,\n",
       "        1.01304176, 0.87537692, 0.89059256, 1.0122511 , 0.71443808,\n",
       "        0.93251004, 0.96768484, 0.71894201, 0.82316179, 0.66771905,\n",
       "        0.84829643, 0.90845414, 0.78705971, 0.96549407, 1.02740379,\n",
       "        0.64944269, 0.83302026, 0.93416491, 0.8577135 , 0.94104354,\n",
       "        0.69602651, 1.03817582, 0.85851983, 0.8718471 , 0.95656222,\n",
       "        0.64939329, 1.00410846, 0.9911611 , 0.81173883, 0.84258776,\n",
       "        0.70447054, 0.98912763, 0.8669641 , 0.85457245, 0.66061699,\n",
       "        0.91257417, 0.81707464, 0.84182588, 0.87067933, 0.93590932,\n",
       "        0.82672194, 0.9214436 , 0.91944336, 1.00593988, 0.87642302,\n",
       "        0.79062746, 0.78487786, 0.72821337, 0.94444246, 0.89944103,\n",
       "        0.91981209, 0.694999  , 0.9399887 , 0.70172161, 1.01604348,\n",
       "        0.82660091, 0.84955408, 0.74551568, 0.90426721, 0.84170614,\n",
       "        0.68623871, 0.66546509, 0.78612323, 1.04777372, 1.07639201,\n",
       "        0.85882656, 0.79682873, 0.82304409, 0.90960317, 0.93198755,\n",
       "        0.77899818, 1.10077231, 0.88922554, 0.88524357, 0.95105296,\n",
       "        1.05788025, 0.89063257, 0.70774673, 0.80188271, 0.77688568,\n",
       "        0.91725673, 0.71962331, 1.05203548, 0.82408093, 0.7159284 ,\n",
       "        0.68546831, 0.90027017, 1.10077839, 0.99009991, 0.78817779,\n",
       "        0.87176561, 0.82785026, 0.71481612, 0.96859953, 0.87883251,\n",
       "        0.82045537, 1.01621224, 0.99993522, 0.90263247, 1.09274572,\n",
       "        0.67647667, 0.85304065, 1.08005503, 0.90650492, 1.03040673,\n",
       "        0.71358868, 0.90192087, 0.9399476 , 0.77834458, 0.89271374,\n",
       "        0.9448063 , 0.81286968, 0.90657422, 0.87801215, 0.87040354,\n",
       "        0.80742745, 0.90135694, 0.80118728, 1.09324425, 0.84410338,\n",
       "        0.87444703, 0.86970455, 0.71286366, 0.87578176, 0.87832966,\n",
       "        0.98409423, 0.64707634, 0.99669506, 0.92813806, 0.70251999,\n",
       "        0.9285404 , 0.83690066, 0.78150443, 0.80577034, 0.93689268,\n",
       "        0.75993115, 0.71477907, 0.86023824, 0.96313462, 0.88888007,\n",
       "        0.89844771, 0.97345042, 1.01611567, 1.0122108 , 0.95140059,\n",
       "        0.71770591, 0.90030024, 0.82280055, 0.6867726 , 0.67175853,\n",
       "        0.75824861, 1.04246101, 0.89303427, 0.89093339, 0.70374024,\n",
       "        0.84070297, 1.09591785, 0.82061237, 0.76256456, 0.67708255,\n",
       "        0.65792526, 0.8679376 , 0.87654656, 0.85691744, 0.77034257,\n",
       "        0.83152747, 0.99919576, 0.80316296, 1.05186304, 0.77371474,\n",
       "        0.72139032, 1.06982275, 0.70033913, 0.90223049, 1.00732402,\n",
       "        0.85811861, 0.68318522, 0.89375317, 0.71803265, 0.77839143,\n",
       "        0.88003867, 0.8914206 , 1.05121689, 0.95434126, 0.88498347,\n",
       "        0.87862297, 0.79287356, 0.98052188, 0.98413826, 0.9896415 ,\n",
       "        0.85926477, 1.00069499, 1.08045063, 0.83786828, 0.84577441,\n",
       "        0.70638029, 0.76015889, 0.81964638, 0.79305282, 0.77734993,\n",
       "        0.86461392, 0.97014482, 0.97377298, 0.70667287, 0.85275246,\n",
       "        0.84346112, 0.91016024, 1.01454431, 1.02436732, 0.87678052,\n",
       "        0.78296392, 0.80741788, 1.06158659, 1.02226013, 0.8781485 ,\n",
       "        0.98480999, 1.03046146, 0.65811078, 0.90102908, 0.65178147,\n",
       "        0.83335195, 1.04121555, 0.68485303, 0.91015986, 0.83725526,\n",
       "        0.89630876, 0.89027212, 0.6870394 , 1.06569221, 1.02742846,\n",
       "        0.74449533, 0.98326371, 0.9845243 , 0.74222828, 1.04372028,\n",
       "        0.84524482, 0.92575201, 0.80023179, 0.85858712, 0.91895986,\n",
       "        0.80181267, 0.65471938, 1.08549766, 0.7580377 , 0.78673965,\n",
       "        1.0201817 , 0.84979736, 0.74276186, 0.80781899, 1.02267514,\n",
       "        0.82016257, 0.72206474, 0.90538831, 0.66728449, 0.976787  ,\n",
       "        0.9120924 , 0.90487224, 1.03137283, 0.79929459, 0.94982292,\n",
       "        1.05914967, 1.09091779, 0.78543088, 0.77461843, 0.99381546,\n",
       "        0.69174808, 0.89848795, 0.72748308, 0.76921495, 0.96724259,\n",
       "        0.74434155, 0.88387908, 0.78601331, 0.86749341, 0.78091416,\n",
       "        0.85331753, 0.83581297, 0.85534093, 0.65236647, 0.94082918,\n",
       "        0.69688571, 1.04260489, 0.79961245, 0.82938791, 0.97609117,\n",
       "        0.79294139, 0.74482309, 0.86330596, 1.06465184, 0.8539697 ,\n",
       "        0.82039318, 0.82351864, 0.85074204, 0.95765217, 1.02013966,\n",
       "        0.94968457, 0.94501998, 0.93608217, 0.73040908, 0.78572665,\n",
       "        0.66888479, 0.86968793, 1.02329841, 0.99673859, 0.801738  ,\n",
       "        0.92835934, 0.70102319, 0.85476869, 1.05149345, 0.82547858,\n",
       "        0.96687509, 0.97728952, 0.87563179, 0.9746608 , 0.99812639,\n",
       "        0.86579236, 0.78282956, 0.86190694, 0.92759696, 0.8442958 ,\n",
       "        0.80473935, 1.08381156, 0.88217792, 0.71538033, 0.99213059,\n",
       "        0.72245754, 0.74937565, 0.96070711, 0.92013766, 0.95469824,\n",
       "        0.93844881, 0.70094123, 0.87515227, 0.9272675 , 0.8651225 ,\n",
       "        0.94822203, 0.69369101, 0.99465317, 0.90078623, 0.85983678,\n",
       "        0.90004619, 0.85991294, 0.98486246, 0.96509803, 0.84593506,\n",
       "        0.69925841, 0.76901339, 0.98256191, 0.96808628, 1.10402201,\n",
       "        0.80151153, 1.07058928, 0.87038982, 0.69158527, 0.8450552 ,\n",
       "        0.87367732, 0.91808026, 0.76340456, 0.97287897, 0.86866797,\n",
       "        0.81176406, 0.90053522, 0.84543269, 1.07230008, 0.97823305,\n",
       "        1.03751004, 0.90252361, 1.05301451, 0.801789  , 1.03923166,\n",
       "        0.91217306, 0.72495107, 0.96392382, 0.75377602, 0.81063963,\n",
       "        1.06618332, 0.94320477, 0.92060247, 0.66767929, 0.99352836,\n",
       "        0.81408122, 0.84112159, 1.09347698, 0.94484347, 0.73200856,\n",
       "        0.96963603, 0.69460924, 0.91554725, 0.85315845, 1.0044042 ,\n",
       "        0.93552638, 0.94793828, 0.81637251, 1.07559256, 0.84975614,\n",
       "        0.8116082 , 0.87893846, 0.91757126, 0.95511218, 0.94145061,\n",
       "        0.97973927, 0.9843017 , 0.85854967, 0.93350932, 1.05771625,\n",
       "        0.68777044, 0.76610289, 0.78679899, 1.03516403, 0.89782784,\n",
       "        0.74956553, 0.69750857, 0.80932163, 0.82437499, 0.72481635,\n",
       "        1.09878413, 0.77312057, 0.84317419, 0.86850223, 0.64689009,\n",
       "        0.73933153, 1.02080663, 0.89653807, 0.69664368, 0.71543268,\n",
       "        0.82304432, 0.85608725, 0.71938636, 0.92331547, 1.07512993,\n",
       "        0.93589382, 1.0426344 , 0.98944724, 0.94005035, 0.74330745,\n",
       "        0.85230641, 1.03444146, 0.9212927 , 0.92049268, 0.95964318,\n",
       "        0.88952382, 0.76340657, 0.8014212 , 0.85353797, 0.96342764,\n",
       "        1.10466833, 0.91211655, 0.66506012, 0.95647125, 0.81852133,\n",
       "        0.89609395, 0.66230864, 0.88249251, 0.8572353 , 0.9028158 ,\n",
       "        0.82330194, 1.05384151, 0.88535941, 0.76326632, 0.77814791,\n",
       "        0.84020503, 0.81622635, 0.66808548, 1.0838673 , 0.89320991,\n",
       "        0.97873059, 0.97520952, 0.80732615, 0.90448226, 0.99396907,\n",
       "        0.8738155 , 0.78569894, 0.90451028, 0.8022409 , 0.90773631,\n",
       "        0.79817699, 0.7565733 , 0.79931207, 0.80471076, 1.02035901,\n",
       "        0.90282368, 0.70770675, 1.07772785, 0.74729472, 0.96075423,\n",
       "        0.93931234, 0.677924  , 0.97772183, 0.64907781, 0.82495089,\n",
       "        0.83274921, 1.02094888, 0.87230658, 0.7971043 , 0.83237834,\n",
       "        0.74061107, 0.93184789, 0.82604592, 0.98822112, 0.90502715,\n",
       "        0.74578853, 0.74706268, 0.69475244, 0.70917064, 0.89628246,\n",
       "        0.72150864, 0.99911022, 0.82305259, 0.92154249, 1.00776351,\n",
       "        0.93362243, 0.92259076, 0.84043924, 0.91148985, 1.09915767,\n",
       "        1.07185426, 0.98121843, 1.04946552, 0.91098223, 0.98235094,\n",
       "        0.8869046 , 0.86475366, 0.91617943, 0.93919864, 0.94616332,\n",
       "        0.65993372, 0.89217459, 0.85405853, 0.9098545 , 0.77955772,\n",
       "        0.89917511, 0.83561327, 0.86674212, 0.94332595, 0.96302003,\n",
       "        1.0713707 , 0.92975518, 0.79578043, 0.7473025 , 0.87403526,\n",
       "        0.84033865, 0.78903924, 0.87184984, 0.71952903, 0.89714984,\n",
       "        0.98720535, 0.86656018, 1.02901387, 0.77193254, 0.94995148,\n",
       "        0.76352426, 0.86658337, 0.94407842, 0.93513037, 0.98923653,\n",
       "        0.9525117 , 0.83930363, 0.70529404, 0.79449024, 0.84364632,\n",
       "        0.78891359, 0.72988947, 0.72912557, 0.8473805 , 0.79751752,\n",
       "        0.69998917, 0.9939039 , 0.80419707, 0.81024086, 0.92862659,\n",
       "        0.80479511, 0.90915416, 0.67946414, 0.84172614, 0.83886604,\n",
       "        0.76394711, 0.80589398, 0.86083725, 0.86043257, 1.0516442 ,\n",
       "        1.06275107, 0.74538646, 0.82165193, 0.91906261, 0.83858138,\n",
       "        0.80053618, 1.03777665, 0.9034776 , 0.95072615, 0.88977471,\n",
       "        0.80441217, 0.90943116, 0.86196954, 0.68732751, 0.76038106,\n",
       "        1.02790219, 0.83601249, 0.92914833, 0.92848031, 1.05534426,\n",
       "        1.05997647, 1.00186469, 0.88666014, 0.91356837, 0.79237851,\n",
       "        0.98644462, 0.99865511, 0.67540524, 0.97351345, 0.80068451,\n",
       "        1.0201744 , 0.98901257, 0.89100075, 0.8124304 , 0.6611018 ,\n",
       "        0.91397746, 1.06957488, 0.74805121, 0.8825686 , 0.85644097,\n",
       "        0.90574497, 1.0163088 , 0.7332799 , 0.86746984, 0.88374585,\n",
       "        0.91859973, 0.78852873, 0.81474346, 1.09719892, 1.08642694,\n",
       "        0.66601771, 0.78353198, 0.93475264, 0.90079136, 0.74628008,\n",
       "        0.84145599, 0.96160929, 0.86086678, 0.79897852, 0.84523448,\n",
       "        0.71618964, 0.71958122, 0.74296494, 0.9778553 , 1.03999337,\n",
       "        0.9111716 , 0.9222147 , 0.80646485, 0.94841329, 0.77913628,\n",
       "        0.88623489, 1.09199888, 0.85245393, 0.93840948, 0.86808996,\n",
       "        1.0037319 , 0.76805516, 0.7608408 , 0.90396776, 0.81292463,\n",
       "        0.97530087, 1.02547257, 0.95150597, 1.02021157, 0.79630192,\n",
       "        0.67660883, 0.97759221, 0.85859913, 1.05905477, 0.88889354,\n",
       "        0.83415554, 1.08382867, 0.95234797, 1.01330884, 0.88525921,\n",
       "        0.89468999, 0.72461653, 1.06050702, 0.95514714, 0.93636601,\n",
       "        0.99718011, 0.87139463, 1.07268555, 0.63977183, 0.91700439,\n",
       "        0.99679482, 0.69229928, 0.96201718, 0.99032618, 1.03494266,\n",
       "        0.8958563 , 0.76409771, 0.83838387, 0.96958854, 0.99253978,\n",
       "        1.10522263, 0.79048342, 0.6655975 , 0.89687441, 0.99195221,\n",
       "        0.981883  , 0.89757521, 1.06341693, 0.97429467, 0.88271291,\n",
       "        0.95093888, 0.83452278, 0.81071326, 0.80184701, 0.69759015,\n",
       "        0.90218193, 0.89828482, 0.95125702, 0.88257512, 1.00375638,\n",
       "        1.07753365, 0.81406618, 0.7566397 , 0.781584  , 0.91262377,\n",
       "        0.8237485 , 0.79005743, 1.00971757, 0.83637942, 0.89085923,\n",
       "        0.66199949, 0.85817998, 0.89317295, 0.86750125, 0.76093205,\n",
       "        0.76857372, 0.93630615, 0.84621438, 1.01527096, 0.64731732,\n",
       "        0.8206087 , 0.88252011, 0.97914129, 0.98896782, 1.05962637,\n",
       "        0.96545887, 0.64899513, 0.73123753, 0.88430301, 0.76109326]),\n",
       " array([0.55597976, 0.38631012, 0.42061725, 0.45305012, 0.45494134,\n",
       "        0.40705019, 0.57112736, 0.46375398, 0.51368465, 0.60621326,\n",
       "        0.54643759, 0.41206987, 0.59512632, 0.53073539, 0.60656559,\n",
       "        0.4576616 , 0.40896448, 0.48748875, 0.47346315, 0.53107007,\n",
       "        0.6231185 , 0.50718512, 0.55390753, 0.38102988, 0.44091799,\n",
       "        0.44292824, 0.67767195, 0.55664108, 0.58549441, 0.44613802,\n",
       "        0.51154804, 0.51435674, 0.43328837, 0.69148549, 0.72637782,\n",
       "        0.39531056, 0.63695061, 0.66969006, 0.56871663, 0.58427585,\n",
       "        0.66329957, 0.67660268, 0.48350113, 0.49931178, 0.39946331,\n",
       "        0.43815406, 0.49903835, 0.54671369, 0.57124347, 0.67122878,\n",
       "        0.60178566, 0.52475831, 0.41915126, 0.53704561, 0.39525693,\n",
       "        0.49983693, 0.61832081, 0.385199  , 0.55314135, 0.41170838,\n",
       "        0.53620959, 0.48689818, 0.51199427, 0.46323598, 0.58704598,\n",
       "        0.52321377, 0.6106416 , 0.71306704, 0.40483965, 0.38665415,\n",
       "        0.54874789, 0.41235289, 0.41014734, 0.61075332, 0.49806601,\n",
       "        0.49635609, 0.63755559, 0.47667325, 0.39680144, 0.61342413,\n",
       "        0.39077507, 0.42664311, 0.47782926, 0.45534817, 0.51869804,\n",
       "        0.65899502, 0.74128263, 0.4665388 , 0.42896585, 0.40852785,\n",
       "        0.5927494 , 0.45644891, 0.50422451, 0.64951237, 0.5845715 ,\n",
       "        0.48699958, 0.42967681, 0.46226165, 0.40555344, 0.57449362,\n",
       "        0.43894588, 0.45066937, 0.40277358, 0.71977411, 0.45096267,\n",
       "        0.49069345, 0.41248522, 0.49375731, 0.44893202, 0.53450038,\n",
       "        0.67074017, 0.46137934, 0.47488864, 0.50534789, 0.55396703,\n",
       "        0.40226597, 0.48377241, 0.38548063, 0.48984278, 0.44858016,\n",
       "        0.54679039, 0.46624351, 0.4122087 , 0.41225925, 0.44654201,\n",
       "        0.39522547, 0.44817337, 0.38806944, 0.3979996 , 0.59913115,\n",
       "        0.52099466, 0.4289372 , 0.41838654, 0.39330989, 0.611073  ,\n",
       "        0.48868407, 0.53878452, 0.67617064, 0.42980308, 0.72469839,\n",
       "        0.38113086, 0.42222836, 0.49825066, 0.46981636, 0.59954033,\n",
       "        0.44705527, 0.59930108, 0.52807554, 0.5082495 , 0.43885   ,\n",
       "        0.38239833, 0.43458629, 0.48691623, 0.55700394, 0.47339767,\n",
       "        0.3812118 , 0.50249888, 0.46741057, 0.43686043, 0.53627523,\n",
       "        0.39907934, 0.45621023, 0.53696642, 0.52809286, 0.51219866,\n",
       "        0.51750965, 0.53946353, 0.66830091, 0.60799792, 0.74147765,\n",
       "        0.52471202, 0.51819531, 0.40452424, 0.39377689, 0.49245842,\n",
       "        0.46278167, 0.50769056, 0.51403115, 0.50819192, 0.46986433,\n",
       "        0.7140676 , 0.59631264, 0.50233365, 0.38681231, 0.40844642,\n",
       "        0.48289104, 0.46885979, 0.44529524, 0.68563041, 0.51736959,\n",
       "        0.58079937, 0.71491356, 0.6957646 , 0.55928963, 0.40148709,\n",
       "        0.48328225, 0.50861316, 0.42775329, 0.48984487, 0.50806777,\n",
       "        0.65902978, 0.38869349, 0.52316681, 0.5401246 , 0.40327324,\n",
       "        0.65029355, 0.59574926, 0.46924342, 0.59948472, 0.48975445,\n",
       "        0.40902678, 0.43858202, 0.45476307, 0.5765966 , 0.44170607,\n",
       "        0.50569161, 0.52210695, 0.57278626, 0.42279222, 0.44037626,\n",
       "        0.39268309, 0.41873672, 0.50733466, 0.45183767, 0.4624488 ,\n",
       "        0.62689872, 0.56484652, 0.41480428, 0.48973694, 0.59679058,\n",
       "        0.49870615, 0.44159194, 0.4950898 , 0.38299503, 0.40171093,\n",
       "        0.47848589, 0.54261114, 0.50653951, 0.41617056, 0.47893566,\n",
       "        0.40379176, 0.41173142, 0.57270466, 0.56805861, 0.57901757,\n",
       "        0.51177811, 0.47185617, 0.51754431, 0.50752302, 0.56303121,\n",
       "        0.66724145, 0.61924875, 0.38793395, 0.38133091, 0.43361496,\n",
       "        0.62945004, 0.49128562, 0.50486986, 0.6285777 , 0.39082509,\n",
       "        0.54477324, 0.58063681, 0.39226195, 0.44910391, 0.38167306,\n",
       "        0.46848693, 0.52145451, 0.42473394, 0.57834795, 0.64541477,\n",
       "        0.38104163, 0.45648741, 0.54641568, 0.47620303, 0.55329239,\n",
       "        0.38594803, 0.65753038, 0.47687454, 0.48821056, 0.56908881,\n",
       "        0.38104221, 0.61963527, 0.6055778 , 0.44092429, 0.46392588,\n",
       "        0.38798387, 0.60338876, 0.48400605, 0.4736033 , 0.38122773,\n",
       "        0.52537144, 0.44469359, 0.46332398, 0.48719979, 0.54815206,\n",
       "        0.45173648, 0.53391358, 0.5319743 , 0.62163991, 0.4922026 ,\n",
       "        0.42694288, 0.42340588, 0.39551387, 0.55671933, 0.51300331,\n",
       "        0.53233123, 0.38572382, 0.55223271, 0.38728342, 0.63276822,\n",
       "        0.45164635, 0.46950374, 0.40261167, 0.51750823, 0.46322954,\n",
       "        0.38402171, 0.38150425, 0.42416179, 0.66842163, 0.70139175,\n",
       "        0.47713042, 0.43089056, 0.44901754, 0.52254357, 0.54425566,\n",
       "        0.41991462, 0.73000674, 0.50362826, 0.50003497, 0.56343755,\n",
       "        0.67998308, 0.50490626, 0.38886583, 0.43420732, 0.41869191,\n",
       "        0.52986279, 0.39248749, 0.67328555, 0.44977986, 0.39129008,\n",
       "        0.38389005, 0.51377387, 0.73001393, 0.60443477, 0.42542124,\n",
       "        0.48813992, 0.45257886, 0.39094206, 0.58159448, 0.49432443,\n",
       "        0.44712873, 0.63295506, 0.61508207, 0.515977  , 0.72053631,\n",
       "        0.3825707 , 0.47234485, 0.70566169, 0.51961299, 0.64878044,\n",
       "        0.39056471, 0.51531214, 0.55219146, 0.41953451, 0.50680446,\n",
       "        0.55708729, 0.44171547, 0.51967833, 0.4936005 , 0.48696156,\n",
       "        0.43794627, 0.51478599, 0.43374572, 0.72112315, 0.46512803,\n",
       "        0.49047266, 0.48635858, 0.39034513, 0.49164019, 0.4938805 ,\n",
       "        0.59799301, 0.38108306, 0.61156129, 0.54045696, 0.38748312,\n",
       "        0.54085277, 0.45947265, 0.42138703, 0.43681802, 0.54913317,\n",
       "        0.40950593, 0.39093056, 0.47831119, 0.57589062, 0.50331512,\n",
       "        0.51208204, 0.58669301, 0.63284814, 0.62853326, 0.56379276,\n",
       "        0.39185822, 0.51380183, 0.44883896, 0.38411467, 0.3820394 ,\n",
       "        0.40865684, 0.6623821 , 0.50709763, 0.50518006, 0.38779426,\n",
       "        0.46243986, 0.72427342, 0.44724269, 0.41085794, 0.38264698,\n",
       "        0.38112532, 0.48483965, 0.49231107, 0.47554173, 0.41501314,\n",
       "        0.4553507 , 0.61427745, 0.43506141, 0.67308842, 0.41688849,\n",
       "        0.39308245, 0.69376137, 0.38694487, 0.51560129, 0.62315756,\n",
       "        0.4765402 , 0.38351709, 0.50775599, 0.39196425, 0.4195617 ,\n",
       "        0.49539164, 0.50562391, 0.67234999, 0.566805  , 0.49980149,\n",
       "        0.49413937, 0.42835699, 0.5941835 , 0.59804007, 0.60394145,\n",
       "        0.47749641, 0.61590947, 0.70612348, 0.46022384, 0.46646084,\n",
       "        0.38849177, 0.40962174, 0.44654274, 0.42847063, 0.41895917,\n",
       "        0.48200326, 0.58321507, 0.58703319, 0.38857112, 0.47210879,\n",
       "        0.46461783, 0.52307249, 0.63110975, 0.64202105, 0.49251658,\n",
       "        0.4222553 , 0.43793973, 0.68424595, 0.63967165, 0.49372072,\n",
       "        0.59875831, 0.64884187, 0.3811312 , 0.51448039, 0.38102845,\n",
       "        0.45674087, 0.66097015, 0.38378701, 0.52307213, 0.45974762,\n",
       "        0.51010523, 0.50457846, 0.38416165, 0.68898203, 0.64544239,\n",
       "        0.40215686, 0.59710586, 0.59845276, 0.40116236, 0.66381123,\n",
       "        0.46603761, 0.53811552, 0.4331142 , 0.47693065, 0.53150664,\n",
       "        0.43416076, 0.38105101, 0.71202573, 0.40855122, 0.42453804,\n",
       "        0.63735895, 0.46970092, 0.40139443, 0.43821419, 0.64013398,\n",
       "        0.4469164 , 0.39331331, 0.51856147, 0.38163853, 0.59021885,\n",
       "        0.52491171, 0.51807632, 0.6498652 , 0.43249782, 0.56218224,\n",
       "        0.68144174, 0.71838623, 0.42374085, 0.41739853, 0.60844304,\n",
       "        0.38504834, 0.51211932, 0.39524352, 0.41439592, 0.5801742 ,\n",
       "        0.4020887 , 0.49881178, 0.42409483, 0.484459  , 0.42103813,\n",
       "        0.47257186, 0.45863147, 0.47423696, 0.38102947, 0.5530769 ,\n",
       "        0.38613945, 0.66254531, 0.43270653, 0.45373302, 0.58948229,\n",
       "        0.42839998, 0.40230247, 0.48089459, 0.68778052, 0.47310737,\n",
       "        0.44708361, 0.44936603, 0.47046813, 0.57021233, 0.63731222,\n",
       "        0.56204119, 0.55730349, 0.54832439, 0.39634118, 0.42392046,\n",
       "        0.38177038, 0.48634427, 0.64082868, 0.6116085 , 0.43411113,\n",
       "        0.54067462, 0.38711124, 0.47376496, 0.672666  , 0.45081267,\n",
       "        0.57979   , 0.59075119, 0.4915088 , 0.58797027, 0.61311501,\n",
       "        0.4830058 , 0.42217503, 0.47971349, 0.53992509, 0.46528111,\n",
       "        0.4361207 , 0.71005171, 0.49729265, 0.39111787, 0.6066233 ,\n",
       "        0.39344874, 0.40437237, 0.5733709 , 0.5326466 , 0.56717157,\n",
       "        0.55068906, 0.38709119, 0.49108903, 0.53960151, 0.48243551,\n",
       "        0.560552  , 0.38544585, 0.60934912, 0.51425418, 0.47797488,\n",
       "        0.51356557, 0.47803865, 0.59881443, 0.57793492, 0.46658939,\n",
       "        0.38668662, 0.41428612, 0.59635691, 0.58105696, 0.73385426,\n",
       "        0.43396074, 0.69464988, 0.48694971, 0.38501586, 0.46588626,\n",
       "        0.48980129, 0.53065698, 0.41129508, 0.58609067, 0.48546657,\n",
       "        0.4409419 , 0.51402048, 0.46618767, 0.69663469, 0.59175164,\n",
       "        0.6567782 , 0.51587522, 0.67440527, 0.43414502, 0.65872416,\n",
       "        0.52498865, 0.39432489, 0.57671166, 0.40645626, 0.44015923,\n",
       "        0.68954952, 0.55546925, 0.53309719, 0.38166986, 0.60813271,\n",
       "        0.44256771, 0.46276904, 0.72139716, 0.55712489, 0.39695747,\n",
       "        0.58268112, 0.38564012, 0.52821829, 0.47244142, 0.61995872,\n",
       "        0.54777044, 0.56026348, 0.44419238, 0.70046128, 0.46966751,\n",
       "        0.44083316, 0.49441804, 0.53016597, 0.56759688, 0.55370182,\n",
       "        0.5933512 , 0.59821477, 0.47689942, 0.54576445, 0.67979473,\n",
       "        0.38429217, 0.41271844, 0.42457433, 0.65413118, 0.51150818,\n",
       "        0.40446062, 0.38628045, 0.43924711, 0.44999666, 0.39427682,\n",
       "        0.72765655, 0.41655486, 0.46439025, 0.4853242 , 0.38108752,\n",
       "        0.39992399, 0.63805383, 0.5103167 , 0.38608517, 0.39113426,\n",
       "        0.44901771, 0.47485383, 0.39240881, 0.53573505, 0.69992307,\n",
       "        0.54813661, 0.66257879, 0.60373248, 0.55229459, 0.40163301,\n",
       "        0.47174385, 0.65331701, 0.53376703, 0.53299072, 0.57226931,\n",
       "        0.50389882, 0.41129613, 0.4339008 , 0.47275274, 0.57619536,\n",
       "        0.73462036, 0.52493474, 0.38147662, 0.56899511, 0.44573124,\n",
       "        0.50990723, 0.38131077, 0.49757309, 0.47580559, 0.51614844,\n",
       "        0.44920681, 0.67535178, 0.50013901, 0.41122295, 0.41942045,\n",
       "        0.46204895, 0.44408825, 0.38170292, 0.71011693, 0.50725838,\n",
       "        0.59227967, 0.58854998, 0.43787703, 0.51771007, 0.60860912,\n",
       "        0.48992171, 0.42390361, 0.51773638, 0.43444572, 0.52077547,\n",
       "        0.43176675, 0.40782291, 0.43250928, 0.43610141, 0.63755606,\n",
       "        0.51615582, 0.38885476, 0.70294768, 0.4034153 , 0.57341973,\n",
       "        0.55155422, 0.38275595, 0.59120943, 0.38104618, 0.45042203,\n",
       "        0.45628052, 0.63821206, 0.48860917, 0.43106913, 0.45599781,\n",
       "        0.4004665 , 0.54411739, 0.45123362, 0.60241459, 0.51822189,\n",
       "        0.40273405, 0.40330972, 0.38567079, 0.38926506, 0.51008098,\n",
       "        0.3931228 , 0.61418441, 0.44902377, 0.53400964, 0.62363991,\n",
       "        0.54587675, 0.5350291 , 0.46223273, 0.52433737, 0.72809788,\n",
       "        0.69611722, 0.59492497, 0.67035046, 0.52385406, 0.59613189,\n",
       "        0.5015296 , 0.48212196, 0.5288258 , 0.55144023, 0.55846153,\n",
       "        0.38119827, 0.50631182, 0.4731804 , 0.52278213, 0.4202413 ,\n",
       "        0.51275648, 0.4584774 , 0.4838163 , 0.55559154, 0.57577149,\n",
       "        0.69555615, 0.54204958, 0.4302137 , 0.40341885, 0.49011333,\n",
       "        0.46215378, 0.42595387, 0.48821294, 0.39245615, 0.51088141,\n",
       "        0.60132425, 0.48366087, 0.64721818, 0.41589187, 0.56231332,\n",
       "        0.41135761, 0.48368067, 0.55635139, 0.54737606, 0.60350585,\n",
       "        0.56492934, 0.46134307, 0.38820075, 0.42938594, 0.46476483,\n",
       "        0.42587601, 0.39614344, 0.39585494, 0.4677491 , 0.4313374 ,\n",
       "        0.38686063, 0.60853866, 0.43575536, 0.43988266, 0.5409376 ,\n",
       "        0.43615832, 0.52211769, 0.38296453, 0.46324531, 0.46100123,\n",
       "        0.41157894, 0.43690188, 0.47881375, 0.47847413, 0.67283828,\n",
       "        0.68558776, 0.40255383, 0.44799919, 0.53160599, 0.46077915,\n",
       "        0.43331504, 0.65707935, 0.51676794, 0.5631038 , 0.50412655,\n",
       "        0.43590015, 0.52238037, 0.47976623, 0.38421277, 0.40973492,\n",
       "        0.64597273, 0.45878551, 0.54145139, 0.54079364, 0.6770733 ,\n",
       "        0.68239257, 0.61718464, 0.50130925, 0.52632155, 0.42804377,\n",
       "        0.60050854, 0.61368957, 0.3824403 , 0.58675947, 0.43341303,\n",
       "        0.63735084, 0.60326506, 0.50524139, 0.44140764, 0.38125005,\n",
       "        0.52671304, 0.69347416, 0.40376111, 0.49764095, 0.47514671,\n",
       "        0.51889707, 0.63306199, 0.39745546, 0.48443882, 0.49869258,\n",
       "        0.5311586 , 0.42563789, 0.44303556, 0.72578475, 0.71311464,\n",
       "        0.38154327, 0.42259538, 0.54700012, 0.51425896, 0.40295531,\n",
       "        0.46303236, 0.57430634, 0.47883856, 0.43229062, 0.46602936,\n",
       "        0.39137266, 0.3924735 , 0.40148308, 0.59135096, 0.65958605,\n",
       "        0.5240343 , 0.53466314, 0.43728976, 0.56074655, 0.41999514,\n",
       "        0.50092625, 0.71965755, 0.47186449, 0.55064969, 0.48497032,\n",
       "        0.61922358, 0.4137663 , 0.40996977, 0.51722734, 0.44175403,\n",
       "        0.58864653, 0.64325522, 0.56390047, 0.63739215, 0.43054993,\n",
       "        0.38258719, 0.59107201, 0.47694067, 0.68133265, 0.50332732,\n",
       "        0.45735625, 0.71007173, 0.56476174, 0.62974487, 0.50004902,\n",
       "        0.50861555, 0.39420569, 0.68300303, 0.56763281, 0.5486075 ,\n",
       "        0.61208753, 0.48781853, 0.69708223, 0.38138903, 0.5296197 ,\n",
       "        0.61166949, 0.38515923, 0.57472967, 0.60467838, 0.6538817 ,\n",
       "        0.5096883 , 0.41165794, 0.4606252 , 0.58263129, 0.60706492,\n",
       "        0.73527763, 0.42685281, 0.38151346, 0.51062707, 0.60643084,\n",
       "        0.595633  , 0.51127453, 0.68635556, 0.5875837 , 0.49776969,\n",
       "        0.56332103, 0.45763812, 0.44021035, 0.43418358, 0.38629906,\n",
       "        0.51555593, 0.51193116, 0.56364604, 0.49764676, 0.61925033,\n",
       "        0.7027214 , 0.4425571 , 0.40785574, 0.42143417, 0.52541879,\n",
       "        0.44953508, 0.42658686, 0.62578719, 0.45906911, 0.50511254,\n",
       "        0.38129452, 0.47659131, 0.50722455, 0.48446572, 0.41001649,\n",
       "        0.41404716, 0.54854779, 0.46681304, 0.6319133 , 0.38107755,\n",
       "        0.44724002, 0.4975977 , 0.5927158 , 0.60321695, 0.68198988,\n",
       "        0.57831123, 0.3810473 , 0.39665896, 0.49919136, 0.4100991 ]))"
      ]
     },
     "execution_count": 17,
     "metadata": {},
     "output_type": "execute_result"
    }
   ],
   "source": [
    "pfolio_returns = []\n",
    "pfolio_volatilities = []\n",
    "\n",
    "for x in range(1000):\n",
    "    weights = np.random.random(num_assets)\n",
    "    weights /= np.sum(weights)\n",
    "    pfolio_returns.append(np.sum(weights * log_returns.mean())*250)\n",
    "    pfolio_volatilities.append(np.sqrt(np.dot(weights.T, np.dot(log_returns.cov()*250, weights))))\n",
    "\n",
    "pfolio_returns = np.array(pfolio_returns) \n",
    "pfolio_volatilities = np.array(pfolio_volatilities)\n",
    "\n",
    "pfolio_returns, pfolio_volatilities"
   ]
  },
  {
   "cell_type": "code",
   "execution_count": 18,
   "metadata": {},
   "outputs": [],
   "source": [
    "portfolios = pd.DataFrame({'Return': pfolio_returns, 'Volatility': pfolio_volatilities})"
   ]
  },
  {
   "cell_type": "code",
   "execution_count": 19,
   "metadata": {},
   "outputs": [
    {
     "data": {
      "text/html": [
       "<div>\n",
       "<style scoped>\n",
       "    .dataframe tbody tr th:only-of-type {\n",
       "        vertical-align: middle;\n",
       "    }\n",
       "\n",
       "    .dataframe tbody tr th {\n",
       "        vertical-align: top;\n",
       "    }\n",
       "\n",
       "    .dataframe thead th {\n",
       "        text-align: right;\n",
       "    }\n",
       "</style>\n",
       "<table border=\"1\" class=\"dataframe\">\n",
       "  <thead>\n",
       "    <tr style=\"text-align: right;\">\n",
       "      <th></th>\n",
       "      <th>Return</th>\n",
       "      <th>Volatility</th>\n",
       "    </tr>\n",
       "  </thead>\n",
       "  <tbody>\n",
       "    <tr>\n",
       "      <th>0</th>\n",
       "      <td>0.943711</td>\n",
       "      <td>0.555980</td>\n",
       "    </tr>\n",
       "    <tr>\n",
       "      <th>1</th>\n",
       "      <td>0.697639</td>\n",
       "      <td>0.386310</td>\n",
       "    </tr>\n",
       "    <tr>\n",
       "      <th>2</th>\n",
       "      <td>0.780199</td>\n",
       "      <td>0.420617</td>\n",
       "    </tr>\n",
       "    <tr>\n",
       "      <th>3</th>\n",
       "      <td>0.828479</td>\n",
       "      <td>0.453050</td>\n",
       "    </tr>\n",
       "    <tr>\n",
       "      <th>4</th>\n",
       "      <td>0.830988</td>\n",
       "      <td>0.454941</td>\n",
       "    </tr>\n",
       "  </tbody>\n",
       "</table>\n",
       "</div>"
      ],
      "text/plain": [
       "     Return  Volatility\n",
       "0  0.943711    0.555980\n",
       "1  0.697639    0.386310\n",
       "2  0.780199    0.420617\n",
       "3  0.828479    0.453050\n",
       "4  0.830988    0.454941"
      ]
     },
     "execution_count": 19,
     "metadata": {},
     "output_type": "execute_result"
    }
   ],
   "source": [
    "portfolios.head()"
   ]
  },
  {
   "cell_type": "code",
   "execution_count": 20,
   "metadata": {},
   "outputs": [
    {
     "data": {
      "text/html": [
       "<div>\n",
       "<style scoped>\n",
       "    .dataframe tbody tr th:only-of-type {\n",
       "        vertical-align: middle;\n",
       "    }\n",
       "\n",
       "    .dataframe tbody tr th {\n",
       "        vertical-align: top;\n",
       "    }\n",
       "\n",
       "    .dataframe thead th {\n",
       "        text-align: right;\n",
       "    }\n",
       "</style>\n",
       "<table border=\"1\" class=\"dataframe\">\n",
       "  <thead>\n",
       "    <tr style=\"text-align: right;\">\n",
       "      <th></th>\n",
       "      <th>Return</th>\n",
       "      <th>Volatility</th>\n",
       "    </tr>\n",
       "  </thead>\n",
       "  <tbody>\n",
       "    <tr>\n",
       "      <th>995</th>\n",
       "      <td>0.965459</td>\n",
       "      <td>0.578311</td>\n",
       "    </tr>\n",
       "    <tr>\n",
       "      <th>996</th>\n",
       "      <td>0.648995</td>\n",
       "      <td>0.381047</td>\n",
       "    </tr>\n",
       "    <tr>\n",
       "      <th>997</th>\n",
       "      <td>0.731238</td>\n",
       "      <td>0.396659</td>\n",
       "    </tr>\n",
       "    <tr>\n",
       "      <th>998</th>\n",
       "      <td>0.884303</td>\n",
       "      <td>0.499191</td>\n",
       "    </tr>\n",
       "    <tr>\n",
       "      <th>999</th>\n",
       "      <td>0.761093</td>\n",
       "      <td>0.410099</td>\n",
       "    </tr>\n",
       "  </tbody>\n",
       "</table>\n",
       "</div>"
      ],
      "text/plain": [
       "       Return  Volatility\n",
       "995  0.965459    0.578311\n",
       "996  0.648995    0.381047\n",
       "997  0.731238    0.396659\n",
       "998  0.884303    0.499191\n",
       "999  0.761093    0.410099"
      ]
     },
     "execution_count": 20,
     "metadata": {},
     "output_type": "execute_result"
    }
   ],
   "source": [
    "portfolios.tail()"
   ]
  },
  {
   "cell_type": "code",
   "execution_count": 23,
   "metadata": {},
   "outputs": [
    {
     "data": {
      "text/plain": [
       "Text(0, 0.5, 'Expected Return')"
      ]
     },
     "execution_count": 23,
     "metadata": {},
     "output_type": "execute_result"
    },
    {
     "data": {
      "image/png": "[encoded data removed]",
      "text/plain": [
       "<Figure size 720x432 with 1 Axes>"
      ]
     },
     "metadata": {
      "needs_background": "light"
     },
     "output_type": "display_data"
    }
   ],
   "source": [
    "portfolios.plot(x='Volatility', y='Return', kind='scatter', figsize=(10,6));\n",
    "plt.xlabel('Expected Volatility')\n",
    "plt.ylabel('Expected Return')"
   ]
  },
  {
   "cell_type": "code",
   "execution_count": null,
   "metadata": {},
   "outputs": [],
   "source": []
  }
 ],
 "metadata": {
  "kernelspec": {
   "display_name": "Python 3",
   "language": "python",
   "name": "python3"
  },
  "language_info": {
   "codemirror_mode": {
    "name": "ipython",
    "version": 3
   },
   "file_extension": ".py",
   "mimetype": "text/x-python",
   "name": "python",
   "nbconvert_exporter": "python",
   "pygments_lexer": "ipython3",
   "version": "3.7.6"
  }
 },
 "nbformat": 4,
 "nbformat_minor": 4
}
